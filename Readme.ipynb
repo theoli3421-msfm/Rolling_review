{
 "cells": [
  {
   "cell_type": "markdown",
   "metadata": {},
   "source": [
    "20251016\n",
    "***\n",
    "### Intorduction\n",
    "During the learning process, you will encounter valuable questions or knowledge points, but you will forget them if you do not review them for a long time. \n",
    "\n",
    "To solve this problem, you can record the questions and their answers, and randomly select them for review when you have free time.\n",
    "***\n",
    "### Folder Usage Instructions\n",
    "The \"Q\" folder in the directory stores questions, and the \"A\" folder stores answers. Both are in docx format and contain images of questions or answers.\n",
    "\n",
    "The file naming format is \"a/q + date + 3-digit code\". For example: a20250603001, q20250908003.\n",
    "\n",
    "The info.xlsx file records the \"category\", \"difficulty level\", \"review times\", and \"error times\" of each question. The \"review times\" and \"error times\" are derived from review records.\n",
    "\n",
    "The generate_review_paper.ipynb file can generate a review paper in Word format. Optional parameters include the number of questions, difficulty level, time since last review, etc.\n",
    "\n",
    "All you need to do is to put questions and answers in the respective folder and rename them. After reviewing the paper, write 1 in records.xlsx if you answer some question wrong."
   ]
  },
  {
   "cell_type": "markdown",
   "metadata": {},
   "source": [
    "***\n",
    "20251016\n",
    "***\n",
    "### 引言\n",
    "学习过程会遇到有价值的题目或者知识点，但是长时间不复习就会忘记。为了解决这个问题，可以将问题和题目答案记录下来，有空的时候从中随机抽取，进行复习。\n",
    "***\n",
    "### 文件夹使用说明\n",
    "文件夹中的Q文件夹记录问题，A文件夹记录答案，格式均为docx，存放题目或答案图片。名称为 a/q+日期＋3位编码，如a20250603001, q20250908003。\n",
    "\n",
    "info.xlsx记录了每道题目的领域、难度、复习次数、错误次数。复习次数和错误次数根据复习记录得到\n",
    "\n",
    "generate_review_paper.ipynb可以生成复习试卷word，可选参数包括题目数量、难度、距上次复习时间等。\n",
    "\n",
    "你只需要把问题和答案放入对应的文件夹，进行正确的命名。需要复习时打开代码，根据自己需要，调整难度、题目数量等参数，生成复习试卷。复习结束后，如果有题目做错了，在records.xlsx把mistake列改为1"
   ]
  }
 ],
 "metadata": {
  "language_info": {
   "name": "python"
  }
 },
 "nbformat": 4,
 "nbformat_minor": 2
}
